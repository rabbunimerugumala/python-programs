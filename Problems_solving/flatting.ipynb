{
 "cells": [
  {
   "cell_type": "code",
   "execution_count": 10,
   "metadata": {},
   "outputs": [
    {
     "name": "stdout",
     "output_type": "stream",
     "text": [
      "[1, 2, 3, 4, 5, 'a', 'b', 'c', 'q', 'w', 'e']\n"
     ]
    }
   ],
   "source": [
    "l = [[1,2,3,4,5],['a','b','c'],['q','w','e']]\n",
    "\n",
    "k = [x for j in l for x in j]\n",
    "\n",
    "print(k)"
   ]
  },
  {
   "cell_type": "code",
   "execution_count": 11,
   "metadata": {},
   "outputs": [
    {
     "name": "stdout",
     "output_type": "stream",
     "text": [
      "(1, 2, 3, 4, 5, 'a', 'b', 'c', 'q', 'w', 'e')\n"
     ]
    }
   ],
   "source": [
    "l = ((1,2,3,4,5),('a','b','c'),('q','w','e'))\n",
    "\n",
    "fl = sum(l,())\n",
    "print(fl)"
   ]
  },
  {
   "cell_type": "code",
   "execution_count": 12,
   "metadata": {},
   "outputs": [
    {
     "name": "stdout",
     "output_type": "stream",
     "text": [
      "[1, 2, 3, 4, 5, 'a', 'b', 'c', 'q', 'w', 'e']\n"
     ]
    }
   ],
   "source": [
    "l = [[1,2,3,4,5],['a','b','c'],['q','w','e']]\n",
    "res =[]\n",
    "for i in l :\n",
    "    res.extend(i)\n",
    "\n",
    "print(res)"
   ]
  },
  {
   "cell_type": "code",
   "execution_count": 13,
   "metadata": {},
   "outputs": [
    {
     "name": "stdout",
     "output_type": "stream",
     "text": [
      "{'a': 1, 'b': 2, 'd': 3, 'e': 4, 'g': 5}\n"
     ]
    }
   ],
   "source": [
    "'''\n",
    "data = {'a':1,'b':2,'c':{'d':3,'e':4,'f':{'g':5}}}\n",
    "\n",
    "{'a':1,'b':2,'d':3,'e':4,'g':5}\n",
    "'''\n",
    "\n",
    "data = {'a':1,'b':2,'c':{'d':3,'e':4,'f':{'g':5}}}\n",
    "\n",
    "\n",
    "def flat_dict(dt,result={}):\n",
    "    for key,value in dt.items():\n",
    "        if type(value) != dict: \n",
    "            result[key] = value\n",
    "        else:\n",
    "            flat_dict(value,result)\n",
    "    else:\n",
    "        return result\n",
    "        \n",
    "        \n",
    "print(flat_dict(data))\n",
    "\n"
   ]
  },
  {
   "cell_type": "code",
   "execution_count": 14,
   "metadata": {},
   "outputs": [
    {
     "name": "stdout",
     "output_type": "stream",
     "text": [
      "method1: [1, 2, 3, 4, 5, 6, 7, 8, 9]\n",
      "method2: [1, 2, 3, 4, 5, 6, 7, 8, 9]\n",
      "method3: [1, 2, 3, 4, 5, 6, 7, 8, 9]\n"
     ]
    }
   ],
   "source": [
    "'''\n",
    "input: [[1,2,3],[4,5,6],[7,8,9]]\n",
    "output: [1,2,3,4,5,6,7,8,9]\n",
    "'''\n",
    "\n",
    "data = [[1,2,3],[4,5,6],[7,8,9]]\n",
    "\n",
    "result = []\n",
    "\n",
    "#! method 1 : Brute force\n",
    "\n",
    "for item in data:\n",
    "    for element in item:\n",
    "        result.append(element)\n",
    "print(f\"method1: {result}\")\n",
    "\n",
    "#! method 2: single for loop\n",
    "result2 = []\n",
    "for item in data:\n",
    "    result2.extend(item)\n",
    "print(f\"method2: {result2}\")\n",
    "\n",
    "#! method 3: List Comprehensions\n",
    "result3 = []\n",
    "[ result3.extend(item) for item in data ]\n",
    "print(f\"method3: {result3}\")\n",
    "\n"
   ]
  },
  {
   "cell_type": "code",
   "execution_count": 15,
   "metadata": {},
   "outputs": [
    {
     "name": "stdout",
     "output_type": "stream",
     "text": [
      "RABBUNI\n"
     ]
    }
   ],
   "source": [
    "print(\"RABBUNI\")"
   ]
  },
  {
   "cell_type": "code",
   "execution_count": 10,
   "metadata": {},
   "outputs": [
    {
     "data": {
      "text/plain": [
       "'RABBUNI'"
      ]
     },
     "execution_count": 10,
     "metadata": {},
     "output_type": "execute_result"
    }
   ],
   "source": [
    "li = [\"RABBUNI\",\"MERUGUMALA\",\"RAVI\",\"RIBKA\"]\n",
    "\n",
    "any('BB' in (l:=lis) for lis in li)\n",
    "l"
   ]
  },
  {
   "cell_type": "code",
   "execution_count": 12,
   "metadata": {},
   "outputs": [
    {
     "name": "stdout",
     "output_type": "stream",
     "text": [
      "RABBUNI\n"
     ]
    }
   ],
   "source": [
    "\n",
    "def name(names):\n",
    "    if any('BB' in (l:=lis) for lis in names):\n",
    "        print(l)\n",
    " \n",
    "\n",
    "nam = name([\"RABBUNI\",\"MERUGUMALA\",\"RAVI\",\"RIBKA\"])\n",
    "\n",
    "\n"
   ]
  }
 ],
 "metadata": {
  "kernelspec": {
   "display_name": "Python 3",
   "language": "python",
   "name": "python3"
  },
  "language_info": {
   "codemirror_mode": {
    "name": "ipython",
    "version": 3
   },
   "file_extension": ".py",
   "mimetype": "text/x-python",
   "name": "python",
   "nbconvert_exporter": "python",
   "pygments_lexer": "ipython3",
   "version": "3.12.7"
  }
 },
 "nbformat": 4,
 "nbformat_minor": 2
}
